{
 "cells": [
  {
   "cell_type": "code",
   "execution_count": 1,
   "id": "91eff299",
   "metadata": {},
   "outputs": [],
   "source": [
    "import math\n",
    "import random"
   ]
  },
  {
   "cell_type": "code",
   "execution_count": 11,
   "id": "e4540f5f",
   "metadata": {},
   "outputs": [],
   "source": [
    "def OTPGenerator():\n",
    "    d1='0123456789'\n",
    "    OTP=''\n",
    "    for i in range(4):\n",
    "        OTP+=d1[math.floor(random.random()*10)]\n",
    "    return 'Your one time OTP is:',OTP"
   ]
  },
  {
   "cell_type": "code",
   "execution_count": 12,
   "id": "885ae744",
   "metadata": {},
   "outputs": [
    {
     "data": {
      "text/plain": [
       "('Your one time OTP is:', '8670')"
      ]
     },
     "execution_count": 12,
     "metadata": {},
     "output_type": "execute_result"
    }
   ],
   "source": [
    "OTPGenerator()"
   ]
  },
  {
   "cell_type": "code",
   "execution_count": 13,
   "id": "23212aa3",
   "metadata": {},
   "outputs": [],
   "source": [
    "def captchaGenerator():\n",
    "    str1='!@#$%^&*()_+{}[]=:;~\\|\"ABCDEFGHIJKLMNOPQRSTUVWXYZ0123456789abcdefghijklmnopqrstuvwxyz'\n",
    "    cpt=''\n",
    "    length=len(str1)\n",
    "    for i in range(6):\n",
    "        cpt+=str1[math.floor(random.random()*length)]\n",
    "    return 'Your one time captcha is:',cpt"
   ]
  },
  {
   "cell_type": "code",
   "execution_count": 14,
   "id": "902eb707",
   "metadata": {},
   "outputs": [
    {
     "data": {
      "text/plain": [
       "('Your one time captcha is:', 'bp8zad')"
      ]
     },
     "execution_count": 14,
     "metadata": {},
     "output_type": "execute_result"
    }
   ],
   "source": [
    "captchaGenerator()"
   ]
  },
  {
   "cell_type": "code",
   "execution_count": null,
   "id": "7a75b700",
   "metadata": {},
   "outputs": [],
   "source": []
  }
 ],
 "metadata": {
  "kernelspec": {
   "display_name": "Python 3",
   "language": "python",
   "name": "python3"
  },
  "language_info": {
   "codemirror_mode": {
    "name": "ipython",
    "version": 3
   },
   "file_extension": ".py",
   "mimetype": "text/x-python",
   "name": "python",
   "nbconvert_exporter": "python",
   "pygments_lexer": "ipython3",
   "version": "3.8.8"
  }
 },
 "nbformat": 4,
 "nbformat_minor": 5
}
