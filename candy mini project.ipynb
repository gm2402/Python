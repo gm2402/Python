{
 "cells": [
  {
   "cell_type": "code",
   "execution_count": null,
   "id": "659aa7ec",
   "metadata": {},
   "outputs": [
    {
     "name": "stdout",
     "output_type": "stream",
     "text": [
      "'''Guess the candy you want'''\n",
      "Enter your Name: Gautam\n",
      "Hello Mr.Gautam, Welcome to the Candy Game\n"
     ]
    }
   ],
   "source": [
    "print(\"'''Guess the candy you want'''\")\n",
    "name=(input(\"Enter your Name: \"))\n",
    "Game='Candy Game'\n",
    "print(f\"Hello Mr.{name}, Welcome to the {Game}\")\n",
    "need=int(input(\"How many candies do you need : \"))\n",
    "candies=100\n",
    "if (need>candies):\n",
    "    print(f\"I can only give you {candies} candies\")\n",
    "    print(\"The remaining\",need-candies,\"candies i don't have\")\n",
    "elif (need==candies):\n",
    "    print(f\"Hurray!!! I had exactly {candies} candies and you needed {need}\")\n",
    "else:\n",
    "    print(f\"I can give you {need} candies\")\n",
    "    print(\"But i will only left with\",candies-need,\"Candies\")"
   ]
  },
  {
   "cell_type": "code",
   "execution_count": null,
   "id": "438bf830",
   "metadata": {},
   "outputs": [],
   "source": []
  }
 ],
 "metadata": {
  "kernelspec": {
   "display_name": "Python 3 (ipykernel)",
   "language": "python",
   "name": "python3"
  },
  "language_info": {
   "codemirror_mode": {
    "name": "ipython",
    "version": 3
   },
   "file_extension": ".py",
   "mimetype": "text/x-python",
   "name": "python",
   "nbconvert_exporter": "python",
   "pygments_lexer": "ipython3",
   "version": "3.10.5"
  }
 },
 "nbformat": 4,
 "nbformat_minor": 5
}
